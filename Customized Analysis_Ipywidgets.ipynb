{
 "cells": [
  {
   "cell_type": "code",
   "execution_count": 1,
   "id": "96750174",
   "metadata": {},
   "outputs": [],
   "source": [
    "import pandas as pd\n",
    "import numpy as np\n",
    "import requests\n",
    "import json\n",
    "import matplotlib.pyplot as plt\n",
    "from matplotlib.pyplot import MultipleLocator\n",
    "import seaborn as sns\n",
    "import ipywidgets as widgets\n",
    "from ipywidgets import interact, interact_manual\n",
    "from IPython.display import display"
   ]
  },
  {
   "cell_type": "code",
   "execution_count": 2,
   "id": "da9a02bf",
   "metadata": {},
   "outputs": [],
   "source": [
    "URL = \"https://dsci551-final-project-fd95f-default-rtdb.firebaseio.com/\"\n",
    "json_suffix = '.json'"
   ]
  },
  {
   "cell_type": "markdown",
   "id": "0213071d",
   "metadata": {},
   "source": [
    "## Function Definition"
   ]
  },
  {
   "cell_type": "code",
   "execution_count": 3,
   "id": "2654bb56",
   "metadata": {},
   "outputs": [],
   "source": [
    "# GET MONTH DATA\n",
    "def get_json(category, year, month):\n",
    "    getURL = URL + category + '/' + year + '/' + str(int(month)) + json_suffix\n",
    "    #print(getURL)\n",
    "    response = requests.get(getURL)\n",
    "    return json.loads(response.text)"
   ]
  },
  {
   "cell_type": "code",
   "execution_count": 4,
   "id": "0e4b5fc5",
   "metadata": {},
   "outputs": [],
   "source": [
    "# GET YEAR DATA\n",
    "def get_year_json(category, year):\n",
    "    getURL = URL + category + '/' + year + '/' + json_suffix\n",
    "    #print(getURL)\n",
    "    response = requests.get(getURL)\n",
    "    return json.loads(response.text)"
   ]
  },
  {
   "cell_type": "code",
   "execution_count": 5,
   "id": "e720a354",
   "metadata": {},
   "outputs": [],
   "source": [
    "def transform_to_json(df):\n",
    "    json = df.to_json(orient = 'records')\n",
    "    return json"
   ]
  },
  {
   "cell_type": "code",
   "execution_count": 6,
   "id": "f1c45320",
   "metadata": {},
   "outputs": [],
   "source": [
    "def upload_data(url, index, year, month, date, data):\n",
    "    try:\n",
    "        database_URL = url + index + '/' + str(year) + '/' + str(month) + '/' + date  + json_suffix\n",
    "        response = requests.put(database_URL, data)\n",
    "    except:\n",
    "        print(\"Upload Failed\")"
   ]
  },
  {
   "cell_type": "code",
   "execution_count": 7,
   "id": "356641c6",
   "metadata": {},
   "outputs": [],
   "source": [
    "# Load Firebase data To DataFrame\n",
    "def load_from_firebase(dataset):\n",
    "    all_df = list()\n",
    "    for year in dataset:\n",
    "        for month in dataset[year]:\n",
    "            if month != None:\n",
    "                for day in month:\n",
    "                    #date_list.append(day)\n",
    "                    #create dataframe for every day\n",
    "                    all_day_data = pd.DataFrame.from_dict(month[day])\n",
    "                    all_df.append(all_day_data)\n",
    "    all_dataframe = pd.concat(all_df)\n",
    "    all_dataframe = all_dataframe.reset_index(drop=True)\n",
    "    return all_dataframe"
   ]
  },
  {
   "cell_type": "code",
   "execution_count": 8,
   "id": "a7a8e924",
   "metadata": {},
   "outputs": [],
   "source": [
    "def create_dataframe(query_data, is_month):\n",
    "    date_list = list()\n",
    "    totalcases = list()\n",
    "    without_NA_cases = list()\n",
    "    monthly_df = list()\n",
    "    test = list()\n",
    "\n",
    "    for day in query_data:\n",
    "        #create index\n",
    "        date_list.append(day)\n",
    "        #create dataframe for every day\n",
    "        all_day_data = pd.DataFrame.from_dict(query_data[day])\n",
    "        #calculate cases amount per day\n",
    "        totalcases.append(len(all_day_data))\n",
    "        #store daily dataframe into list\n",
    "        monthly_df.append(all_day_data)\n",
    "\n",
    "        test.append(all_day_data.isnull().any(axis=1).sum())\n",
    "\n",
    "    #create monthly dataframe\n",
    "    monthly_frame = pd.concat(monthly_df)\n",
    "    monthly_frame = monthly_frame.reset_index(drop=True)\n",
    "    \n",
    "    if is_month:\n",
    "        print('There are ' + str(sum(totalcases))+ ' cases in total this month'+ ', and ' + \n",
    "              str((sum(totalcases)-sum(test))) + ' among the data are without NA.')\n",
    "    \n",
    "    return monthly_frame"
   ]
  },
  {
   "cell_type": "markdown",
   "id": "f7f76ab7",
   "metadata": {},
   "source": [
    "### Crime Plot Functions"
   ]
  },
  {
   "cell_type": "code",
   "execution_count": 9,
   "id": "69059314",
   "metadata": {},
   "outputs": [],
   "source": [
    "def plot_by_time(df):\n",
    "    # convert crime_time into \"hour\"(0-24)\n",
    "    df['crime_time_byhour'] = pd.Series.to_frame((df['crime_time'])//100)\n",
    "    fig, ax = plt.subplots(figsize=(10, 5))\n",
    "    sns.barplot(x=df['crime_time_byhour'].value_counts().index, y=df['crime_time_byhour'].value_counts())\n",
    "    ax.set_title(\"Total Crimes Reported by Time\")\n",
    "    ax.set_xlabel(\"Time(hour) of the day\")\n",
    "    ax.set_ylabel(\"Total Crimes Reported\")\n",
    "    sns.despine()"
   ]
  },
  {
   "cell_type": "code",
   "execution_count": 10,
   "id": "5fe3861b",
   "metadata": {},
   "outputs": [],
   "source": [
    "def plot_by_area(df):\n",
    "    fig, ax = plt.subplots(figsize=(15, 5))\n",
    "\n",
    "    sns.barplot(x = df[\"area_name\"].value_counts().index, y = df[\"area_name\"].value_counts(), ax=ax)\n",
    "    ax.set_title(\"Crimes by Area\")\n",
    "    ax.set_xticklabels(ax.get_xticklabels(), rotation=-45)\n",
    "    ax.set_xlabel(\"Area Name\")\n",
    "    ax.set_ylabel(\"Total Crimes Occurring\")\n",
    "    # Adding Values\n",
    "    for p in ax.patches:\n",
    "        ax.text(p.get_x() + p.get_width()/2., p.get_height(), '%d' % round(int(p.get_height())), \n",
    "                fontsize=9, color='black', ha='center', va='bottom')\n",
    "    sns.despine()"
   ]
  },
  {
   "cell_type": "code",
   "execution_count": 11,
   "id": "953180f3",
   "metadata": {},
   "outputs": [],
   "source": [
    "def plot_by_age(df):\n",
    "    \n",
    "    vict_age_0 = df[df['vict_age'] == 0].index\n",
    "    df.drop(vict_age_0, inplace=True)\n",
    "    #df.reset_index(drop=True, inplace=True)\n",
    "    \n",
    "    fig, ax = plt.subplots(figsize=(15, 5))\n",
    "    df[\"vict_age_by5\"] = 5* ( pd.to_numeric(df['vict_age'])//5)\n",
    "    sns.barplot(x = df[\"vict_age_by5\"].value_counts().index, y = df[\"vict_age_by5\"].value_counts(), ax=ax)\n",
    "    ax.set_title(\"Distribution of Vict Age\")\n",
    "    ax.set_xlabel(\"Victom Age\")\n",
    "    ax.set_ylabel(\"Total Crimes Occurring\")\n",
    "    sns.despine()"
   ]
  },
  {
   "cell_type": "markdown",
   "id": "076424f1",
   "metadata": {},
   "source": [
    "### Records Tracking Functions"
   ]
  },
  {
   "cell_type": "code",
   "execution_count": 12,
   "id": "82c0fe94",
   "metadata": {},
   "outputs": [],
   "source": [
    "def upload_plot(purpose, category, year, month, plot):\n",
    "    temp_dict = dict()\n",
    "    temp_dict['purpose'] = purpose\n",
    "    temp_dict['category'] = category\n",
    "    temp_dict['year'] = year\n",
    "    temp_dict['month'] = month\n",
    "    temp_dict['plot_by'] = plot\n",
    "    \n",
    "    df = pd.DataFrame.from_dict([temp_dict])\n",
    "    json_data = transform_to_json(df)\n",
    "    \n",
    "    upload_record(json_data)"
   ]
  },
  {
   "cell_type": "code",
   "execution_count": 13,
   "id": "05f9ff0f",
   "metadata": {},
   "outputs": [],
   "source": [
    "def upload_pred(purpose, year, month, date, algorithms):\n",
    "    temp_dict = dict()\n",
    "    temp_dict['purpose'] = purpose\n",
    "    temp_dict['year'] = year\n",
    "    temp_dict['month'] = month\n",
    "    temp_dict['date'] = date\n",
    "    temp_dict['algorithms'] = algorithms\n",
    "\n",
    "    df = pd.DataFrame.from_dict([temp_dict])\n",
    "    json_data = transform_to_json(df)\n",
    "    \n",
    "    upload_record(json_data)"
   ]
  },
  {
   "cell_type": "code",
   "execution_count": 14,
   "id": "e711dcbd",
   "metadata": {},
   "outputs": [],
   "source": [
    "def upload_record(data):\n",
    "    try:\n",
    "        database_URL = URL + 'records' + '/' + json_suffix\n",
    "        response = requests.put(database_URL, data)\n",
    "        \n",
    "    except:\n",
    "        print(\"Upload Failed\")"
   ]
  },
  {
   "cell_type": "markdown",
   "id": "0f53319e",
   "metadata": {},
   "source": [
    "### Covid Plot Functions"
   ]
  },
  {
   "cell_type": "code",
   "execution_count": 15,
   "id": "2915f120",
   "metadata": {},
   "outputs": [],
   "source": [
    "def plot_by_test_pos(df, is_month):\n",
    "    \n",
    "    if is_month:\n",
    "        fig, ax = plt.subplots(figsize=(15, 5))\n",
    "\n",
    "        sns.barplot(x = df[\"day\"], y = df[\"tests_pos\"], ax=ax)\n",
    "        ax.set_title(\"Tests of the Month\")\n",
    "        ax.set_xticklabels(ax.get_xticklabels(), rotation=-45)\n",
    "        ax.set_xlabel(\"Date\")\n",
    "        ax.set_ylabel(\"Total Tests\")\n",
    "        # Adding Values\n",
    "        for p in ax.patches:\n",
    "            ax.text(p.get_x() + p.get_width()/2., p.get_height(), '%d' % round(int(p.get_height())), \n",
    "                    fontsize=9, color='black', ha='center', va='bottom')\n",
    "        sns.despine()\n",
    "    else:\n",
    "        fig, ax = plt.subplots(figsize=(15, 5))\n",
    "        # Plotting crimes reported by day\n",
    "        sns.barplot(x=df['month'].value_counts().index.sort_values(ascending=True), y=df[['month', 'tests_pos']].groupby('month').sum().squeeze())\n",
    "        \n",
    "        # Axes\n",
    "        ax.set_title(\"Tests of Month\")\n",
    "        ax.set_xlabel(\"Month of the Year\")\n",
    "        ax.set_ylabel(\"Total Tests Reported\")\n",
    "        # Adding values\n",
    "        for p in ax.patches:\n",
    "            ax.text(p.get_x() + p.get_width()/2., p.get_height(), '%d' % round(int(p.get_height())), fontsize=9, color='black', ha='center', va='bottom')\n",
    "        sns.despine()"
   ]
  },
  {
   "cell_type": "code",
   "execution_count": 16,
   "id": "4cac00d6",
   "metadata": {},
   "outputs": [],
   "source": [
    "def plot_by_cumu_test_pos(df):\n",
    "    fig, ax = plt.subplots(figsize=(15, 5))\n",
    "    # Plotting crimes reported by day\n",
    "    sns.barplot(x = df['month'].value_counts().index.sort_values(ascending=True), y = df[['month', 'day', 'cumulative_tests_pos']].groupby('month').max('day').cumulative_tests_pos)\n",
    "    # Axes\n",
    "    ax.set_title(\"Tests of Month\")\n",
    "    ax.set_xlabel(\"Month of the Year\")\n",
    "    ax.set_ylabel(\"Total Tests Reported\")\n",
    "    # Adding values\n",
    "    for p in ax.patches:\n",
    "        ax.text(p.get_x() + p.get_width()/2., p.get_height(), '%d' % round(int(p.get_height())), fontsize=9, color='black', ha='center', va='bottom')\n",
    "    sns.despine()"
   ]
  },
  {
   "cell_type": "code",
   "execution_count": 17,
   "id": "e5ec62d1",
   "metadata": {},
   "outputs": [],
   "source": [
    "def plot_by_pos_test_percent(df):\n",
    "    fig, ax = plt.subplots(figsize=(15, 5))\n",
    "    # Plotting crimes reported by day\n",
    "    sns.barplot(x=df['month'].value_counts().index.sort_values(ascending=True), y=df[['month', 'percent_positive_tests_cum']].groupby('month').sum().squeeze())\n",
    "    # Axes\n",
    "    ax.set_title(\"Tests of Month\")\n",
    "    ax.set_xlabel(\"Month of the Year\")\n",
    "    ax.set_ylabel(\"Total Tests Reported\")\n",
    "    # Adding values\n",
    "    for p in ax.patches:\n",
    "        ax.text(p.get_x() + p.get_width()/2., p.get_height(), '%f' % p.get_height(), fontsize=9, color='black', ha='center', va='bottom')\n",
    "    sns.despine()"
   ]
  },
  {
   "cell_type": "markdown",
   "id": "30aaaadd",
   "metadata": {},
   "source": [
    "## User Searching"
   ]
  },
  {
   "cell_type": "markdown",
   "id": "7e5fc0fe",
   "metadata": {},
   "source": [
    "### Plotting"
   ]
  },
  {
   "cell_type": "markdown",
   "id": "ce1e2bae",
   "metadata": {},
   "source": [
    "## Data preproceesing fo prediction"
   ]
  },
  {
   "cell_type": "markdown",
   "id": "fc614c60",
   "metadata": {},
   "source": [
    "### Load data from firebase"
   ]
  },
  {
   "cell_type": "code",
   "execution_count": 18,
   "id": "d9a23595",
   "metadata": {},
   "outputs": [],
   "source": [
    "# load all crime data from firebase\n",
    "crime_data = pd.DataFrame()\n",
    "crime_data_2020 = get_year_json('crime', '2020')\n",
    "crime_data_2021= get_year_json('crime', '2021')\n",
    "for month_data in crime_data_2020:\n",
    "    if month_data is not None:\n",
    "        df = create_dataframe(month_data, False)\n",
    "        crime_data = crime_data.append(df)\n",
    "for month_data in crime_data_2021:\n",
    "    if month_data is not None:\n",
    "        df = create_dataframe(month_data, False)\n",
    "        crime_data = crime_data.append(df)\n",
    "        \n",
    "# to set the datetime\n",
    "crime_data['date'] = pd.to_datetime(crime_data[['month', 'day', 'year']])\n",
    "crime_data['weekday'] = crime_data['date'].dt.dayofweek\n",
    "\n",
    "# drop rows with age ==0\n",
    "crime_data.reset_index(drop=True, inplace=True)\n",
    "crime_data.drop(crime_data[crime_data[\"vict_age\"]==0].index, inplace=True)\n",
    "crime_data.reset_index(drop=True, inplace=True)\n",
    "\n",
    "crime_count = crime_data.groupby('date').size().reset_index(name='Crime_Count')"
   ]
  },
  {
   "cell_type": "code",
   "execution_count": 19,
   "id": "fd9ed103",
   "metadata": {},
   "outputs": [],
   "source": [
    "# load all covid data from firebase\n",
    "covid_data = pd.DataFrame()\n",
    "covid_data_2020 = get_year_json('covid', '2020')\n",
    "covid_data_2021= get_year_json('covid', '2021')\n",
    "for month_data in covid_data_2020:\n",
    "    if month_data is not None:\n",
    "        df = create_dataframe(month_data, False)\n",
    "        covid_data = covid_data.append(df)\n",
    "for month_data in covid_data_2021:\n",
    "    if month_data is not None:\n",
    "        df = create_dataframe(month_data, False)\n",
    "        covid_data = covid_data.append(df)\n",
    "\n",
    "covid_data = covid_data.dropna()\n",
    "covid_data['date'] = pd.to_datetime(covid_data[['month', 'day', 'year']])\n",
    "covid_data['weekday'] = covid_data['date'].dt.dayofweek"
   ]
  },
  {
   "cell_type": "markdown",
   "id": "afbe0995",
   "metadata": {},
   "source": [
    "### combine dataset and split into training and testing"
   ]
  },
  {
   "cell_type": "code",
   "execution_count": 20,
   "id": "448c0952",
   "metadata": {},
   "outputs": [],
   "source": [
    "combined_data = covid_data.merge(crime_count, how = 'inner', left_on='date', right_on='date')\n",
    "\n",
    "# prepare train, test data for modeling\n",
    "x_data = combined_data.drop(['weekday', 'date', 'Crime_Count', 'percent_positive_tests_cum', 'percent_positive_tests', 'percent_positive_avg_tests'], axis=1).values\n",
    "y_data = combined_data['Crime_Count'].values\n",
    "\n",
    "from sklearn.model_selection import train_test_split\n",
    "x_train, x_test, y_train, y_test = train_test_split(x_data, y_data, test_size= 0.2, random_state = 0 )"
   ]
  },
  {
   "cell_type": "code",
   "execution_count": 21,
   "id": "afe9788b",
   "metadata": {},
   "outputs": [],
   "source": [
    "def LR(x_train, data, y_train, accurate_crime_count):\n",
    "    from sklearn.linear_model import LinearRegression\n",
    "    reg = LinearRegression()\n",
    "    reg.fit(x_train, y_train)\n",
    "    y_linear_pred = reg.predict(data)\n",
    "    print(\"Predict Count: \"+ str(int(y_linear_pred[0])))\n",
    "    print(\"Accurate Count: \"+ str(int(accurate_crime_count[0])))\n",
    "    score = reg.score(x_test, y_test)"
   ]
  },
  {
   "cell_type": "code",
   "execution_count": 22,
   "id": "1b7c6960",
   "metadata": {},
   "outputs": [],
   "source": [
    "def SVM(x_train, data, y_train, accurate_crime_count):\n",
    "    from sklearn.svm import SVC\n",
    "    svm = SVC()\n",
    "    svm.fit(x_train, y_train)\n",
    "    y_svm_pred = svm.predict(data)\n",
    "    #print(svm.score(x_train, y_train))\n",
    "    score = svm.score(x_test, y_test)\n",
    "    print(\"Predict Count: \"+ str(int(y_svm_pred[0])))\n",
    "    print(\"Accurate Count: \"+ str(int(accurate_crime_count[0])))"
   ]
  },
  {
   "cell_type": "code",
   "execution_count": 23,
   "id": "c81f746c",
   "metadata": {},
   "outputs": [],
   "source": [
    "def RDF(x_train, data, y_train, accurate_crime_count):\n",
    "    from sklearn.ensemble import RandomForestRegressor\n",
    "    regressor = RandomForestRegressor(n_estimators = 10, random_state = 0)\n",
    "    regressor.fit(x_train, y_train)\n",
    "    y_rdm_pred = regressor.predict(data)\n",
    "    score = regressor.score(x_test, y_test)\n",
    "    #print(score)\n",
    "    print(\"Predict Count: \"+ str(int(y_rdm_pred[0])))\n",
    "    print(\"Accurate Count: \"+ str(int(accurate_crime_count[0]))) "
   ]
  },
  {
   "cell_type": "code",
   "execution_count": 24,
   "id": "e8086bc5",
   "metadata": {},
   "outputs": [
    {
     "data": {
      "application/vnd.jupyter.widget-view+json": {
       "model_id": "42d10cdff7474613baefefc74cad1014",
       "version_major": 2,
       "version_minor": 0
      },
      "text/plain": [
       "interactive(children=(Dropdown(description='purpose', options=('plot', 'predict crime amount', 'correlation'),…"
      ]
     },
     "metadata": {},
     "output_type": "display_data"
    }
   ],
   "source": [
    "@interact\n",
    "def user_searching_select(purpose = ['plot','predict crime amount','correlation']):\n",
    "    if purpose == 'plot':\n",
    "        # Plotting\n",
    "        @interact\n",
    "        def user_searching_plotting(category = ['crime', 'covid'], year = ['2020', '2021'], \n",
    "                                 month = ['01','02','03','04','05','06','07','08','09','10','11','12','whole year']):\n",
    "            global query_data\n",
    "            global select_df\n",
    "            \n",
    "            # loading data\n",
    "            try:\n",
    "                # whole year data\n",
    "                if month == 'whole year':\n",
    "                    select_df = pd.DataFrame()\n",
    "                    query_data = get_year_json(category, year)\n",
    "                    #print(query_data)\n",
    "                    for month_data in query_data:\n",
    "                        if month_data is not None:\n",
    "                            df = create_dataframe(month_data, False)\n",
    "                            select_df = select_df.append(df)\n",
    "                            select_df.dropna(subset=['tests'], how='all', inplace=True)\n",
    "                    print(\"There are \" + str(len(select_df)) + \" data this year.\")\n",
    "                # specific month data\n",
    "                else:        \n",
    "                    query_data = get_json(category, year, month)\n",
    "                    #print(query_data)\n",
    "                    print('In this month, we found relevant information for ' + str(len(query_data)) + \" days\")\n",
    "                    select_df = create_dataframe(query_data, True)\n",
    "\n",
    "            except:\n",
    "                print('There are no data matches in the dataset')\n",
    "\n",
    "\n",
    "            if category == 'crime':\n",
    "                select_df['crime_time'] = pd.to_numeric(select_df['crime_time'])\n",
    "                @interact\n",
    "                def test(plot = ['Time', 'Area Name', 'Vict Age']):\n",
    "                    if plot == 'Time':\n",
    "                        plot_by_time(select_df)\n",
    "                    if plot == 'Area Name':\n",
    "                        plot_by_area(select_df)\n",
    "                    if plot =='Vict Age':\n",
    "                        plot_by_age(select_df)\n",
    "                \n",
    "                    upload_plot(purpose, category, year, month, plot)\n",
    "\n",
    "            if (category == 'covid') and (month == 'whole year'):\n",
    "                @interact\n",
    "                def test(plot = ['Positive Test', 'Positive Cumulative Test', 'Positive Tests(%)']):\n",
    "                    if month == 'whole year':\n",
    "                        if plot == 'Positive Test':\n",
    "                            plot_by_test_pos(select_df, False)\n",
    "                        if plot == 'Positive Cumulative Test':\n",
    "                            plot_by_cumu_test_pos(select_df)\n",
    "                        if plot == 'Positive Tests(%)':\n",
    "                            plot_by_pos_test_percent(select_df)\n",
    "                    \n",
    "                    upload_plot(purpose, category, year, month, plot)\n",
    "                \n",
    "            elif (category == 'covid') and (month != 'whole year'):\n",
    "                @interact\n",
    "                def test(plot = ['Positive Test']):\n",
    "                    try:\n",
    "                        if plot == 'Positive Test':\n",
    "                            plot_by_test_pos(select_df, True)\n",
    "                    except:\n",
    "                        print('There are no data matches in the dataset')\n",
    "                        \n",
    "                    upload_plot(purpose, category, year, month, plot)\n",
    "        \n",
    "    if purpose == 'predict crime amount':\n",
    "        @interact\n",
    "        def choose_algo(year = ['2020', '2021'], month = ['01','02','03','04','05','06','07','08','09','10','11','12'],\n",
    "                   date = ['01','02','03','04','05','06','07','08','09','10','11','12','13','14','15','16',\n",
    "                          '17','18','19','20','21','22','23','24','25','26','27','28','29','30','31'],\n",
    "                        algorithms = ['Random Forest', 'Linear Regression', 'SVM']):\n",
    "            \n",
    "            try:\n",
    "                data = combined_data[combined_data['date'] == year+month+date].drop(['weekday', 'date', 'Crime_Count', 'percent_positive_tests_cum', 'percent_positive_tests', 'percent_positive_avg_tests'], axis=1).values      \n",
    "                accurate_crime_count = combined_data[combined_data['date'] == year+month+date]['Crime_Count'].values\n",
    "                if algorithms == 'Linear Regression':\n",
    "                    LR(x_train, data, y_train, accurate_crime_count)\n",
    "                    upload_pred(purpose, year, month, date, algorithms)\n",
    "                    \n",
    "                if algorithms == 'SVM':\n",
    "                    SVM(x_train, data, y_train, accurate_crime_count)\n",
    "                    upload_pred(purpose, year, month, date, algorithms)\n",
    "                    \n",
    "                if algorithms == 'Random Forest':\n",
    "                    RDF(x_train, data, y_train, accurate_crime_count)\n",
    "                    upload_pred(purpose, year, month, date, algorithms)\n",
    "                    \n",
    "            except:\n",
    "                print(\"no data on that date!\")\n",
    "                \n",
    "    if purpose == 'correlation':\n",
    "        print(\"Correlation between crime amounts and other factors: \\n\")\n",
    "        print(combined_data.corr()['Crime_Count'])"
   ]
  },
  {
   "cell_type": "code",
   "execution_count": null,
   "id": "d8fe29cb",
   "metadata": {},
   "outputs": [],
   "source": []
  },
  {
   "cell_type": "code",
   "execution_count": null,
   "id": "b2c521d4",
   "metadata": {},
   "outputs": [],
   "source": []
  }
 ],
 "metadata": {
  "kernelspec": {
   "display_name": "Python 3",
   "language": "python",
   "name": "python3"
  },
  "language_info": {
   "codemirror_mode": {
    "name": "ipython",
    "version": 3
   },
   "file_extension": ".py",
   "mimetype": "text/x-python",
   "name": "python",
   "nbconvert_exporter": "python",
   "pygments_lexer": "ipython3",
   "version": "3.7.2"
  }
 },
 "nbformat": 4,
 "nbformat_minor": 5
}
