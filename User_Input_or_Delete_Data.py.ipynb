{
 "cells": [
  {
   "cell_type": "code",
   "execution_count": 1,
   "id": "e9d7a63d",
   "metadata": {},
   "outputs": [],
   "source": [
    "import pandas as pd\n",
    "import numpy as np\n",
    "import requests\n",
    "import json\n",
    "import datetime\n",
    "import ipywidgets as widgets\n",
    "from ipywidgets import interact, interact_manual, Dropdown"
   ]
  },
  {
   "cell_type": "code",
   "execution_count": 2,
   "id": "79d83585",
   "metadata": {},
   "outputs": [],
   "source": [
    "URL = \"https://dsci551-final-project-fd95f-default-rtdb.firebaseio.com/\"\n",
    "json_suffix = '.json'"
   ]
  },
  {
   "cell_type": "code",
   "execution_count": 3,
   "id": "f0e54c93",
   "metadata": {},
   "outputs": [],
   "source": [
    "user_input = dict()\n",
    "\n",
    "# crime data variable\n",
    "area = widgets.Text(placeholder = 'Type number', description = 'area', disabled = False)\n",
    "area_name = widgets.Text(placeholder = 'Type text', description = 'area_name', disabled = False)\n",
    "crime_time = widgets.Text(placeholder = 'Type number ex:1330', description = 'crime_time', disabled = False)\n",
    "lat = widgets.Text(placeholder = 'Type number', description = 'lat', disabled = False)\n",
    "lon = widgets.Text(placeholder = 'Type number', description = 'lon', disabled = False)\n",
    "vict_age = widgets.Text(placeholder = 'Type number', description = 'vict_age', disabled = False)\n",
    "vict_des = widgets.Text(placeholder = 'Type character(F/M/X)', description = 'vict_des', disabled = False)\n",
    "vict_sex = widgets.Text(placeholder = 'Type character(F/M/X)', description = 'vict_sex', disabled = False)\n",
    "weapon = widgets.Text(placeholder = 'Type number', description = 'weapon', disabled = False)\n",
    "upload_or_not = widgets.RadioButtons(options=['No', 'Yes'],description='Upload',disabled=False)\n",
    "\n",
    "# covid data variable\n",
    "cumulative_tests = widgets.Text(placeholder = 'Type number', description = 'cumulative_tests', disabled = False, style= {'description_width': 'initial'})\n",
    "cumulative_tests_pos = widgets.Text(placeholder = 'Type number', description = 'cumulative_tests_pos', disabled = False, style= {'description_width': 'initial'})\n",
    "percent_positive_tests_cum = widgets.Text(placeholder = 'Type number', description = 'percent_positive_tests_cum', disabled = False, style= {'description_width': 'initial'})\n",
    "tests = widgets.Text(placeholder = 'Type number', description = 'tests', disabled = False, style= {'description_width': 'initial'})\n",
    "tests_pos = widgets.Text(placeholder = 'Type number', description = 'tests_pos', disabled = False, style= {'description_width': 'initial'})\n",
    "percent_positive_tests = widgets.Text(placeholder = 'Type number', description = 'percent_positive_tests', disabled = False, style= {'description_width': 'initial'})\n",
    "avg_tests = widgets.Text(placeholder = 'Type number', description = 'avg_tests', disabled = False, style= {'description_width': 'initial'})\n",
    "avg_pos_tests = widgets.Text(placeholder = 'Type number', description = 'avg_pos_tests', disabled = False, style= {'description_width': 'initial'})\n",
    "percent_positive_avg_tests = widgets.Text(placeholder = 'Type number', description = 'percent_positive_avg_tests', disabled = False, style= {'description_width': 'initial'})"
   ]
  },
  {
   "cell_type": "markdown",
   "id": "8bf6e0ac",
   "metadata": {},
   "source": [
    "## Fuction Definition"
   ]
  },
  {
   "cell_type": "code",
   "execution_count": 4,
   "id": "75db177e",
   "metadata": {},
   "outputs": [],
   "source": [
    "def transform_to_json(df):\n",
    "    json = df.to_json(orient = 'records')\n",
    "    return json"
   ]
  },
  {
   "cell_type": "code",
   "execution_count": 5,
   "id": "84cd37aa",
   "metadata": {},
   "outputs": [],
   "source": [
    "def upload_data(url, index, year, month, date, data):\n",
    "    try:\n",
    "        database_URL = url + index + '/' + str(year) + '/' + str(month) + '/' + date  + json_suffix\n",
    "        response = requests.put(database_URL, data)\n",
    "        print(database_URL)\n",
    "    except:\n",
    "        print(\"Upload Failed\")"
   ]
  },
  {
   "cell_type": "code",
   "execution_count": 6,
   "id": "bc4bba44",
   "metadata": {},
   "outputs": [],
   "source": [
    "def delete_data(url, index, year, month, date):\n",
    "    try:\n",
    "        database_URL = url + index + '/' + str(year) + '/' + str(month) + '/' + date  + json_suffix\n",
    "        response = requests.delete(database_URL)\n",
    "    except:\n",
    "        print(\"Delete Failed\")"
   ]
  },
  {
   "cell_type": "code",
   "execution_count": 7,
   "id": "71d95e1d",
   "metadata": {},
   "outputs": [],
   "source": [
    "def bind_input_to_output(sender):\n",
    "    user_input[sender.description] = sender.value"
   ]
  },
  {
   "cell_type": "code",
   "execution_count": 8,
   "id": "472dc47e",
   "metadata": {},
   "outputs": [],
   "source": [
    "def show_data(url, index, year, month, date):\n",
    "    try:\n",
    "        database_URL = url + index + '/' + str(year) + '/' + str(month) + '/' + date  + json_suffix\n",
    "        response = requests.get(database_URL)\n",
    "        print(database_URL)\n",
    "        print(json.loads(response.text)) \n",
    "    except:\n",
    "        print(\"No data of the date!\")"
   ]
  },
  {
   "cell_type": "markdown",
   "id": "7f6c2fba",
   "metadata": {},
   "source": [
    "## Let user to enter data"
   ]
  },
  {
   "cell_type": "code",
   "execution_count": 9,
   "id": "76983e0b",
   "metadata": {},
   "outputs": [
    {
     "data": {
      "application/vnd.jupyter.widget-view+json": {
       "model_id": "d26a1494836149b69d969f91f07073d4",
       "version_major": 2,
       "version_minor": 0
      },
      "text/plain": [
       "interactive(children=(Dropdown(description='modification', options=('delete', 'insert', 'modify'), value='dele…"
      ]
     },
     "metadata": {},
     "output_type": "display_data"
    }
   ],
   "source": [
    "@interact\n",
    "def upload_data_manually(modification = ['delete', 'insert','modify'], category = ['covid', 'crime'], year = ['2020', '2021'], \n",
    "                         month = ['01','02','03','04','05','06','07','08','09','10','11','12'],\n",
    "                         day = ['01','02','03','04','05','06','07','08','09','10','11','12','13','14',\n",
    "                                '15','16','17','18','19','20','21','22','23','24','25','26','27','28','29','30','31']):\n",
    "    \n",
    "    global category_choice, modification_choose\n",
    "    user_input.clear()\n",
    "    user_input[\"date\"] = year + '-' + month + '-' + day\n",
    "    user_input[\"year\"] = int(year)\n",
    "    user_input[\"month\"] = int(month)\n",
    "    user_input[\"day\"] = int(day)\n",
    "    modification_choose = modification\n",
    "    \n",
    "    if modification == 'delete':\n",
    "        display(upload_or_not)\n",
    "        \n",
    "    if modification == 'insert':\n",
    "            \n",
    "        if category == 'crime':\n",
    "            display(area, area_name, crime_time, lat, lon, vict_age, vict_des, vict_sex, weapon, upload_or_not)\n",
    "            area.on_submit(bind_input_to_output)\n",
    "            area_name.on_submit(bind_input_to_output)\n",
    "            crime_time.on_submit(bind_input_to_output)\n",
    "            lat.on_submit(bind_input_to_output)\n",
    "            lon.on_submit(bind_input_to_output)\n",
    "            vict_age.on_submit(bind_input_to_output)\n",
    "            vict_des.on_submit(bind_input_to_output)\n",
    "            vict_sex.on_submit(bind_input_to_output)\n",
    "            weapon.on_submit(bind_input_to_output)\n",
    "\n",
    "        if category == 'covid':\n",
    "            display(cumulative_tests, cumulative_tests_pos, percent_positive_tests_cum, tests, tests_pos, \n",
    "                    percent_positive_tests, avg_tests, avg_pos_tests, percent_positive_avg_tests, upload_or_not)\n",
    "            cumulative_tests.on_submit(bind_input_to_output)\n",
    "            cumulative_tests_pos.on_submit(bind_input_to_output)\n",
    "            percent_positive_tests_cum.on_submit(bind_input_to_output)\n",
    "            tests, tests_pos.on_submit(bind_input_to_output)\n",
    "            percent_positive_tests.on_submit(bind_input_to_output)\n",
    "            avg_tests.on_submit(bind_input_to_output)\n",
    "            avg_pos_tests.on_submit(bind_input_to_output)\n",
    "            percent_positive_avg_tests.on_submit(bind_input_to_output)\n",
    "        \n",
    "    if modification == 'modify':\n",
    "        show_data(URL, category_choice, user_input['year'], int(user_input['month']), user_input['date'])\n",
    "        display(avg_pos_tests, avg_tests, cumulative_tests, cumulative_tests_pos, percent_positive_avg_tests, percent_positive_tests, percent_positive_tests_cum, tests, tests_pos, upload_or_not)\n",
    "        \n",
    "        avg_pos_tests.on_submit(bind_input_to_output)\n",
    "        avg_tests.on_submit(bind_input_to_output)\n",
    "        cumulative_tests.on_submit(bind_input_to_output)\n",
    "        cumulative_tests_pos.on_submit(bind_input_to_output)\n",
    "        percent_positive_avg_tests.on_submit(bind_input_to_output)\n",
    "        percent_positive_tests.on_submit(bind_input_to_output)\n",
    "        percent_positive_tests_cum.on_submit(bind_input_to_output)\n",
    "        tests.on_submit(bind_input_to_output)\n",
    "        tests_pos.on_submit(bind_input_to_output)\n",
    "\n",
    "    category_choice = category\n"
   ]
  },
  {
   "cell_type": "code",
   "execution_count": 10,
   "id": "be50c6cd",
   "metadata": {},
   "outputs": [
    {
     "name": "stdout",
     "output_type": "stream",
     "text": [
      "Delete Success!\n"
     ]
    }
   ],
   "source": [
    "if modification_choose == 'delete':\n",
    "    try:\n",
    "        delete_data(URL, category_choice, user_input['year'], int(user_input['month']), user_input['date'])\n",
    "        print('Delete Success!')\n",
    "    except:\n",
    "        print('Delete Failed.')\n",
    "        \n",
    "if modification_choose == 'modify':\n",
    "    if upload_or_not.value == 'Yes':\n",
    "        user_input_df = pd.DataFrame(user_input, index = np.arange(1))\n",
    "        user_input_json = transform_to_json(user_input_df)\n",
    "        upload_data(URL, category_choice, user_input['year'], user_input['month'], user_input['date'], user_input_json)\n",
    "    \n",
    "if modification_choose == 'insert':\n",
    "    if upload_or_not.value == 'Yes':\n",
    "        # Load the data with specific date\n",
    "        there_is_data = True\n",
    "        try:\n",
    "            dayurl = URL + category_choice + '/' + str(user_input['year'])  + '/' + str(user_input['month'])  + '/' +  user_input['date']+ json_suffix\n",
    "            temp_response = requests.get(dayurl)\n",
    "            temp_data_json = json.loads(temp_response.text)\n",
    "            temp_data = pd.DataFrame.from_dict(temp_data_json)\n",
    "        except:\n",
    "            print(\"There are no data of that date yet! You are now uploading the first row of data.\")\n",
    "            there_is_data = False\n",
    "\n",
    "        # tranform user input to dataframe\n",
    "        user_input_df = pd.DataFrame(user_input, index = np.arange(1))\n",
    "\n",
    "        # merge two dataframe\n",
    "        if there_is_data:\n",
    "            all_data = pd.concat([temp_data, user_input_df])\n",
    "        else:\n",
    "            all_data = user_input_df\n",
    "            \n",
    "        all_data = all_data.reset_index(drop=True)\n",
    "        all_data_json = transform_to_json(all_data)\n",
    "        try:\n",
    "            upload_data(URL, category_choice, user_input['year'], int(user_input['month']), user_input['date'], all_data_json)\n",
    "            print('Upload Success! There are ' + str(len(all_data)) + ' datas of the day in the Firebase now.')\n",
    "        except:\n",
    "            print('Upload Failed.')"
   ]
  },
  {
   "cell_type": "code",
   "execution_count": null,
   "id": "6819811b",
   "metadata": {},
   "outputs": [],
   "source": []
  }
 ],
 "metadata": {
  "kernelspec": {
   "display_name": "Python 3",
   "language": "python",
   "name": "python3"
  },
  "language_info": {
   "codemirror_mode": {
    "name": "ipython",
    "version": 3
   },
   "file_extension": ".py",
   "mimetype": "text/x-python",
   "name": "python",
   "nbconvert_exporter": "python",
   "pygments_lexer": "ipython3",
   "version": "3.7.2"
  }
 },
 "nbformat": 4,
 "nbformat_minor": 5
}
